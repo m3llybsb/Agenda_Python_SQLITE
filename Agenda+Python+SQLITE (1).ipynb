{
 "cells": [
  {
   "cell_type": "code",
   "execution_count": null,
   "id": "6b54ba21",
   "metadata": {},
   "outputs": [],
   "source": [
    "import sqlite3, time\n",
    "conectar = sqlite3.connect('C:/Users/Thiago/Desktop/PROJ_Python2024/agenda_python+sqlite.db')\n",
    "c = conectar.cursor()"
   ]
  },
  {
   "cell_type": "code",
   "execution_count": null,
   "id": "92b01cf9",
   "metadata": {},
   "outputs": [],
   "source": [
    "def criar_db():\n",
    "    c.execute(\" CREATE TABLE IF NOT EXISTS cadastro (Nome text, Telefone varchar, Email text, Data text)\")"
   ]
  },
  {
   "cell_type": "code",
   "execution_count": null,
   "id": "123663d4",
   "metadata": {},
   "outputs": [],
   "source": [
    "try:\n",
    "    criar_db()\n",
    "except:\n",
    "    print('Erro ao criar banco de dados!')\n",
    "else:\n",
    "    print('Banco de dados criado com sucesso!')"
   ]
  },
  {
   "cell_type": "code",
   "execution_count": null,
   "id": "bfd3a5ef",
   "metadata": {},
   "outputs": [],
   "source": [
    "def inserir(n, t, e):\n",
    "    d = time.strftime('%d/%m/%y')\n",
    "    c.execute('INSERT INTO cadastro VALUES(?, ?, ?, ?)', (n, t, e, d))\n",
    "    conectar.commit()\n",
    "\n",
    "def pesquisar(p):\n",
    "    sql = 'SELECT *FROM cadastro WHERE nome = ?'\n",
    "    for row in c.execute(sql, (p,)):\n",
    "        print(row)"
   ]
  },
  {
   "cell_type": "code",
   "execution_count": null,
   "id": "f27f33d6",
   "metadata": {},
   "outputs": [],
   "source": [
    "fc = int(input(' 1 - CADASTRAR \\n 2 - PESQUISAR \\n Selecione uma opção: '))\n",
    "\n",
    "if fc == 1:\n",
    "    try:\n",
    "        print('CADASTRO DE AGENDA')\n",
    "        time.sleep(2)\n",
    "        n = str(input('Informe seu nome:'))\n",
    "        t = str(input('Informe seu telefone:'))\n",
    "        e = str(input('Informe seu e-mail:'))\n",
    "        inserir(n, t, e) \n",
    "    except:\n",
    "        print('ERRO A EFETUAR O CADASTRO')\n",
    "    else:\n",
    "        print('CADASTRO REALIZADO COM SUCESSO')\n",
    "elif fc == 2:\n",
    "    print('AGUARDE UM MOMENTO')\n",
    "    p = str(input('INFORME O NOME BUSCA:'))\n",
    "    pesquisar(p)\n",
    "else:\n",
    "    print('OPCAO INVALIDA')"
   ]
  },
  {
   "cell_type": "code",
   "execution_count": null,
   "id": "06533b30",
   "metadata": {},
   "outputs": [],
   "source": [
    "print(input('APERTE A TECLA ENTER PARA FINALIZAR!'))"
   ]
  }
 ],
 "metadata": {
  "kernelspec": {
   "display_name": "Python 3 (ipykernel)",
   "language": "python",
   "name": "python3"
  },
  "language_info": {
   "codemirror_mode": {
    "name": "ipython",
    "version": 3
   },
   "file_extension": ".py",
   "mimetype": "text/x-python",
   "name": "python",
   "nbconvert_exporter": "python",
   "pygments_lexer": "ipython3",
   "version": "3.11.7"
  }
 },
 "nbformat": 4,
 "nbformat_minor": 5
}
